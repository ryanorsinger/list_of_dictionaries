{
 "cells": [
  {
   "cell_type": "markdown",
   "metadata": {},
   "source": [
    "# Working with Lists of Dictionaries\n",
    "- Lists are lists of any value that we store in a single variable.\n",
    "    - Order matters because lists use a numeric index to access\n",
    "    - Any ordered list from the real word could be stored as a list in Python\n",
    "    - Lists can hold any data type, including other lists and commonly dictionaries.\n",
    "    - `[1, 2, 3, 4]` or `[\"this\", \"that\", \"the other\"]`\n",
    "\n",
    "\n",
    "- Dictionaries are like labeled lists with keys and values.\n",
    "    - Each key is like is own new variable name (kinda)\n",
    "    - We access values in dictionaries from their given key\n",
    "    - A real world example of a dictionary would be the nutritional facts for grocery items.\n",
    "    - The keys we see are \"calories\", \"carbs\", etc.. and the values are the appropriate values\n",
    "    - `{\"first_name\": \"Ryan\", \"last_name\": \"Orsinger\", \"favorite_language\": \"Python\"}`\n",
    "       \n",
    "       \n",
    "- Lists of dictionaries are _incredibly_ common in Python and other languages.\n",
    "\n",
    "- Database tables and spreadsheets are often represented by lists of dictionaries"
   ]
  },
  {
   "cell_type": "code",
   "execution_count": 8,
   "metadata": {},
   "outputs": [],
   "source": [
    "drinks = [\n",
    "    {\n",
    "        \"type\": \"water\",\n",
    "        \"calories\": 0,\n",
    "        \"number_consumed\": 7,\n",
    "        \"caffeinated\": False\n",
    "    },\n",
    "    {\n",
    "        \"type\": \"orange juice\",\n",
    "        \"calories\": 220,\n",
    "        \"number_consumed\": 4,\n",
    "        \"caffeinated\": False\n",
    "    },\n",
    "    {\n",
    "        \"type\": \"gatorade\",\n",
    "        \"calories\": 140,\n",
    "        \"number_consumed\": 1,\n",
    "        \"caffeinated\": False\n",
    "    },\n",
    "    {\n",
    "        \"type\": \"cappuccino\",\n",
    "        \"calories\": 350,\n",
    "        \"number_consumed\": 2,\n",
    "        \"caffeinated\": True\n",
    "    },\n",
    "    {\n",
    "        \"type\": \"hot tea\",\n",
    "        \"calories\": 5,\n",
    "        \"number_consumed\": 3,\n",
    "        \"caffeinated\": True\n",
    "    }\n",
    "]"
   ]
  },
  {
   "cell_type": "markdown",
   "metadata": {},
   "source": [
    "###### Exercise 1: How many different kinds of drinks are represented?\n",
    "\n",
    "- Manually counting things yourself is not the point of using a programming language\n",
    "- We'll want Python to count things for us.\n"
   ]
  },
  {
   "cell_type": "code",
   "execution_count": 5,
   "metadata": {},
   "outputs": [],
   "source": [
    "# Exercise 1\n",
    "# How many different kinds of drinks?\n"
   ]
  },
  {
   "cell_type": "markdown",
   "metadata": {},
   "source": [
    "###### Exercise 2: How many total consumed drinks?\n",
    "- We'll need to add up all of the numbers from each dictionary from the `number_consumed` key.\n"
   ]
  },
  {
   "cell_type": "code",
   "execution_count": 10,
   "metadata": {},
   "outputs": [
    {
     "data": {
      "text/plain": [
       "15"
      ]
     },
     "execution_count": 10,
     "metadata": {},
     "output_type": "execute_result"
    }
   ],
   "source": [
    "# Exercise 2\n",
    "# How many total consumed drinks?\n"
   ]
  },
  {
   "cell_type": "markdown",
   "metadata": {},
   "source": [
    "###### Exercise 3: How many total consumed calories?\n",
    "- Multiply each drink's calories by the number consumed, then sum each result from each drink"
   ]
  },
  {
   "cell_type": "code",
   "execution_count": null,
   "metadata": {},
   "outputs": [],
   "source": [
    "# Exercise 3\n",
    "# How many total consumed calories\n"
   ]
  },
  {
   "cell_type": "markdown",
   "metadata": {},
   "source": [
    "###### Exercise 4: How many types of drinks are caffeinated?\n",
    "- We can build a counter in a loop with a conditional\n",
    "- Or we can make a new list of only caffeinated drinks and then count the number of items on that list\n",
    "- Either way programmatically counts the number of results."
   ]
  },
  {
   "cell_type": "code",
   "execution_count": null,
   "metadata": {},
   "outputs": [],
   "source": [
    "# Exercise 4\n",
    "# How many types of drinks are caffieinated?\n"
   ]
  },
  {
   "cell_type": "markdown",
   "metadata": {},
   "source": [
    "###### Exercise 5: How many total consumed drinks were non-caffeinated?\n",
    "- Add up the `number_consumed` values only from non-caffeinated beverages"
   ]
  },
  {
   "cell_type": "code",
   "execution_count": null,
   "metadata": {},
   "outputs": [],
   "source": [
    "# Exercise 5\n",
    "# How many total consumed drinks were non-caffeinated?\n"
   ]
  },
  {
   "cell_type": "markdown",
   "metadata": {},
   "source": [
    "###### Exercise 6: What is the drink with the highest amount of calories per drink?\n",
    "- Again, doing this manually misses the point of using a programming language\n",
    "- We can do this with a loop with a conditional\n",
    "- Or we can approach this with another piece of Python syntax, the `key` argument in the `max` function"
   ]
  },
  {
   "cell_type": "code",
   "execution_count": null,
   "metadata": {},
   "outputs": [],
   "source": [
    "# Exercise 6\n",
    "# Which drink has the msot calories?\n"
   ]
  },
  {
   "cell_type": "markdown",
   "metadata": {},
   "source": [
    "###### Exercise 7: Which drink was consumed the least? (has the lowest `number_consumed`)\n",
    "- Here we can make use of the `key` argument with the `min` function\n",
    "- A loop with a conditional is possible, but is \"upside down\" from how we did it with the max above. "
   ]
  },
  {
   "cell_type": "code",
   "execution_count": 9,
   "metadata": {},
   "outputs": [],
   "source": [
    "# Exercise 7\n",
    "# Which drink was consumed the least?\n"
   ]
  },
  {
   "cell_type": "markdown",
   "metadata": {},
   "source": [
    "###### Exercise 8: If we consume all of these beverages, what is the average calorie count per drink?\n",
    "- First, multiply each drink's calorie count by the number of that specific drink consumed\n",
    "- Then divide that number by the total number of drinks consumed"
   ]
  },
  {
   "cell_type": "code",
   "execution_count": null,
   "metadata": {},
   "outputs": [],
   "source": [
    "# Exercise 8\n",
    "# Average calorie count per consumed drink, if all beverages are consumed\n"
   ]
  }
 ],
 "metadata": {
  "kernelspec": {
   "display_name": "Python 3",
   "language": "python",
   "name": "python3"
  },
  "language_info": {
   "codemirror_mode": {
    "name": "ipython",
    "version": 3
   },
   "file_extension": ".py",
   "mimetype": "text/x-python",
   "name": "python",
   "nbconvert_exporter": "python",
   "pygments_lexer": "ipython3",
   "version": "3.8.5"
  }
 },
 "nbformat": 4,
 "nbformat_minor": 4
}
