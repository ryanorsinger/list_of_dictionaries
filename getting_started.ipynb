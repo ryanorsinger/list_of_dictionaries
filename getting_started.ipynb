{
 "cells": [
  {
   "cell_type": "markdown",
   "metadata": {},
   "source": [
    "# Getting Started With Lists of Dictionaries\n",
    "\n",
    "Consider the following list containing 2 dictionaries. \n",
    "\n",
    "Remember, lists are ordered lists with a numeric index and dictionaries are labeled lists where each key denotes its value.\n",
    "\n",
    "In a way, think of each dictionary's key as a variable that holds the value on the right of the colon symbol."
   ]
  },
  {
   "cell_type": "code",
   "execution_count": 1,
   "metadata": {},
   "outputs": [],
   "source": [
    "fruits = [\n",
    "    {\n",
    "        \"item\": \"apple\",\n",
    "        \"quantity\": 5,\n",
    "        \"price\": 0.95\n",
    "    },\n",
    "    {\n",
    "        \"item\": \"orange\",\n",
    "        \"quantity\": 7,\n",
    "        \"price\": 0.99\n",
    "    }\n",
    "]"
   ]
  },
  {
   "cell_type": "code",
   "execution_count": 2,
   "metadata": {},
   "outputs": [],
   "source": [
    "# How do we access the first dictionary in the list?\n",
    "fruits[0] # is the first dictionary in the list"
   ]
  },
  {
   "cell_type": "code",
   "execution_count": 3,
   "metadata": {},
   "outputs": [],
   "source": [
    "# How would we get the number of apples?\n",
    "fruits[0][\"quantity\"]"
   ]
  },
  {
   "cell_type": "code",
   "execution_count": 4,
   "metadata": {},
   "outputs": [],
   "source": [
    "# How would we determine the total spent on apples where we multiply price * quantity?\n",
    "total_spent_on_apples = fruits[0][\"quantity\"] * fruits[0][\"price\"]\n",
    "print(\"The total spent on apples is\", total_spent_on_apples)"
   ]
  },
  {
   "cell_type": "code",
   "execution_count": 5,
   "metadata": {},
   "outputs": [],
   "source": [
    "# What's one way to determine the total quantity of all items in the fruist list of dictionaries?\n",
    "total_quantity = fruits[0][\"quantity\"] + fruits[1][\"quantity\"]"
   ]
  },
  {
   "cell_type": "code",
   "execution_count": 6,
   "metadata": {},
   "outputs": [],
   "source": [
    "# What about if we have a longer list than only two? What if we need this to be programmatic? Use a loop!\n",
    "total_quantity = 0\n",
    "for fruit in fruits:\n",
    "    total_quantity = fruit[\"quantity\"]\n",
    "print(\"The total number of both apples and oranges is\", total_quantity)"
   ]
  },
  {
   "cell_type": "code",
   "execution_count": 7,
   "metadata": {},
   "outputs": [],
   "source": [
    "# What's one way to determine the total spent on both apples and oranges? (this is the \"brute force\" way)\n",
    "spent_on_apples = fruits[0][\"quantity\"] * fruits[0][\"price\"]\n",
    "spent_on_oranges = fruits[1][\"quantity\"] * fruits[1][\"price\"]\n",
    "total_spent = spent_on_apples + spent_on_oranges\n",
    "print(\"The total spend on all apples and all oranges is\", total_spent)"
   ]
  },
  {
   "cell_type": "code",
   "execution_count": 8,
   "metadata": {},
   "outputs": [],
   "source": [
    "# What's a programmatic way to determine the total spend? Use a loop! Then access each dictionary's values inside the loop\n",
    "total_spent = 0 # We often need to start a variable at zero to give it a starting state. Then, future operations change its value.\n",
    "for fruit in fruits:\n",
    "    total_spent += fruit[\"quantity\"] * fruit[\"price\"] # go through the entire list and multiply each fruit's price by that fruit's quantity\n",
    "print(\"The total spend on all apples and all oranges is\", total_spent)\n",
    "   "
   ]
  },
  {
   "cell_type": "code",
   "execution_count": 9,
   "metadata": {},
   "outputs": [],
   "source": [
    "# How would we determine the average price spent per item?\n",
    "total_spent = 0\n",
    "quantity_of_items = 0\n",
    "for fruit in fruits:\n",
    "    total_spent += fruit[\"quantity\"] * fruit[\"price\"]\n",
    "    quantity_of_items += fruit[\"quantity\"]\n",
    "\n",
    "average_per_item = total_spent / quantity_of_items\n",
    "print(\"After purchasing a combination of\", quantity_of_items, \"apples and oranges, the average cost per item is\", average_per_item)"
   ]
  }
 ],
 "metadata": {
  "kernelspec": {
   "display_name": "Python 3",
   "language": "python",
   "name": "python3"
  },
  "language_info": {
   "codemirror_mode": {
    "name": "ipython",
    "version": 3
   },
   "file_extension": ".py",
   "mimetype": "text/x-python",
   "name": "python",
   "nbconvert_exporter": "python",
   "pygments_lexer": "ipython3",
   "version": "3.8.5"
  }
 },
 "nbformat": 4,
 "nbformat_minor": 4
}
